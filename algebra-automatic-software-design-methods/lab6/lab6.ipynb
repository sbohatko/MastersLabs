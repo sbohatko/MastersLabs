{
 "cells": [
  {
   "cell_type": "code",
   "execution_count": null,
   "metadata": {},
   "outputs": [],
   "source": [
    "# Define the first automaton\n",
    "TA = {\n",
    "    \"A\": {'R', 'Y', 'G'},\n",
    "    \"X\": {'a', 'b'},\n",
    "    \"A0\": \"R\",\n",
    "    \"Y\": {'x'},\n",
    "    \"E\": {\n",
    "        \"R\": {\n",
    "            \"a, x=20, x:=0\": \"Y\"\n",
    "        },\n",
    "        \"Y\": {\n",
    "            \"a, x=5, x:=0\": \"G\",\n",
    "            \"b, x=5, x:=0\": \"R\"\n",
    "        },\n",
    "        \"G\": {\n",
    "            \"a, x=50, x:=0\": \"Y\",\n",
    "        }\n",
    "    },\n",
    "    \"F\": \"R\"\n",
    "}"
   ]
  }
 ],
 "metadata": {
  "kernelspec": {
   "display_name": "Python 3",
   "language": "python",
   "name": "python3"
  },
  "language_info": {
   "codemirror_mode": {
    "name": "ipython",
    "version": 3
   },
   "file_extension": ".py",
   "mimetype": "text/x-python",
   "name": "python",
   "nbconvert_exporter": "python",
   "pygments_lexer": "ipython3",
   "version": "3.9.6"
  }
 },
 "nbformat": 4,
 "nbformat_minor": 2
}
