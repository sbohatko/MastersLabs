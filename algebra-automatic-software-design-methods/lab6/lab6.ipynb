{
 "cells": [
  {
   "cell_type": "code",
   "execution_count": 1,
   "metadata": {},
   "outputs": [],
   "source": [
    "TA = {\n",
    "    \"A\": {'R', 'Y', 'G'},\n",
    "    \"X\": {'a', 'b'},\n",
    "    \"A0\": \"R\",\n",
    "    \"Y\": {'x'},\n",
    "    \"E\": {\n",
    "        \"R\": {\n",
    "            \"a, x=20, x:=0\": \"Y\"\n",
    "        },\n",
    "        \"Y\": {\n",
    "            \"a, x=5, x:=0\": \"G\",\n",
    "            \"b, x=5, x:=0\": \"R\"\n",
    "        },\n",
    "        \"G\": {\n",
    "            \"a, x=50, x:=0\": \"Y\",\n",
    "        }\n",
    "    },\n",
    "    \"F\": \"R\"\n",
    "}"
   ]
  },
  {
   "cell_type": "code",
   "execution_count": 2,
   "metadata": {},
   "outputs": [
    {
     "ename": "ModuleNotFoundError",
     "evalue": "No module named 'graphviz'",
     "output_type": "error",
     "traceback": [
      "\u001b[0;31m---------------------------------------------------------------------------\u001b[0m",
      "\u001b[0;31mModuleNotFoundError\u001b[0m                       Traceback (most recent call last)",
      "\u001b[1;32m/Users/alexbogatko/Desktop/MastersLabs/algebra-automatic-software-design-methods/lab6/lab6.ipynb Cell 2\u001b[0m line \u001b[0;36m1\n\u001b[0;32m----> <a href='vscode-notebook-cell:/Users/alexbogatko/Desktop/MastersLabs/algebra-automatic-software-design-methods/lab6/lab6.ipynb#W1sZmlsZQ%3D%3D?line=0'>1</a>\u001b[0m \u001b[39mfrom\u001b[39;00m \u001b[39mgraphviz\u001b[39;00m \u001b[39mimport\u001b[39;00m Digraph\n\u001b[1;32m      <a href='vscode-notebook-cell:/Users/alexbogatko/Desktop/MastersLabs/algebra-automatic-software-design-methods/lab6/lab6.ipynb#W1sZmlsZQ%3D%3D?line=1'>2</a>\u001b[0m \u001b[39m# Define the second automaton\u001b[39;00m\n\u001b[1;32m      <a href='vscode-notebook-cell:/Users/alexbogatko/Desktop/MastersLabs/algebra-automatic-software-design-methods/lab6/lab6.ipynb#W1sZmlsZQ%3D%3D?line=2'>3</a>\u001b[0m TA_2 \u001b[39m=\u001b[39m {\n\u001b[1;32m      <a href='vscode-notebook-cell:/Users/alexbogatko/Desktop/MastersLabs/algebra-automatic-software-design-methods/lab6/lab6.ipynb#W1sZmlsZQ%3D%3D?line=3'>4</a>\u001b[0m     \u001b[39m'\u001b[39m\u001b[39mA\u001b[39m\u001b[39m'\u001b[39m: {\u001b[39m'\u001b[39m\u001b[39m2, x=1, y=2\u001b[39m\u001b[39m'\u001b[39m, \u001b[39m'\u001b[39m\u001b[39m0, x=1, y=0\u001b[39m\u001b[39m'\u001b[39m, \u001b[39m'\u001b[39m\u001b[39m1, x<1, y=1\u001b[39m\u001b[39m'\u001b[39m, \u001b[39m'\u001b[39m\u001b[39m2, x>1, y=2\u001b[39m\u001b[39m'\u001b[39m, \u001b[39m'\u001b[39m\u001b[39m1, x<1, y>1\u001b[39m\u001b[39m'\u001b[39m, \u001b[39m'\u001b[39m\u001b[39m2, x<1, y=2\u001b[39m\u001b[39m'\u001b[39m, \u001b[39m'\u001b[39m\u001b[39m1, x<1, y=0\u001b[39m\u001b[39m'\u001b[39m, \u001b[39m'\u001b[39m\u001b[39m0, x=0, y=0\u001b[39m\u001b[39m'\u001b[39m, \u001b[39m'\u001b[39m\u001b[39m1, x<1, y<1\u001b[39m\u001b[39m'\u001b[39m},\n\u001b[1;32m      <a href='vscode-notebook-cell:/Users/alexbogatko/Desktop/MastersLabs/algebra-automatic-software-design-methods/lab6/lab6.ipynb#W1sZmlsZQ%3D%3D?line=4'>5</a>\u001b[0m     \u001b[39m'\u001b[39m\u001b[39mX\u001b[39m\u001b[39m'\u001b[39m: {\u001b[39m'\u001b[39m\u001b[39ma\u001b[39m\u001b[39m'\u001b[39m, \u001b[39m'\u001b[39m\u001b[39mb\u001b[39m\u001b[39m'\u001b[39m},\n\u001b[0;32m   (...)\u001b[0m\n\u001b[1;32m     <a href='vscode-notebook-cell:/Users/alexbogatko/Desktop/MastersLabs/algebra-automatic-software-design-methods/lab6/lab6.ipynb#W1sZmlsZQ%3D%3D?line=12'>13</a>\u001b[0m     }\n\u001b[1;32m     <a href='vscode-notebook-cell:/Users/alexbogatko/Desktop/MastersLabs/algebra-automatic-software-design-methods/lab6/lab6.ipynb#W1sZmlsZQ%3D%3D?line=13'>14</a>\u001b[0m }\n",
      "\u001b[0;31mModuleNotFoundError\u001b[0m: No module named 'graphviz'"
     ]
    }
   ],
   "source": [
    "from graphviz import Digraph\n",
    "# Define the second automaton\n",
    "TA_2 = {\n",
    "    'A': {'2, x=1, y=2', '0, x=1, y=0', '1, x<1, y=1', '2, x>1, y=2', '1, x<1, y>1', '2, x<1, y=2', '1, x<1, y=0', '0, x=0, y=0', '1, x<1, y<1'},\n",
    "    'X': {'a', 'b'},\n",
    "    'A0': {'0, x=0, y=0', '0, x=1, y=0'},\n",
    "    'E': {\n",
    "        '0, x=0, y=0': {'a': '0, x=1, y=0', 'b': '1, x<1, y>1'},\n",
    "        '1, x<1, y=0': {'a': '0, x=1, y=0', 'b': '2, x>1, y=2'},\n",
    "        '1, x<1, y<1': {'b': '2, x>1, y=2'},\n",
    "        '1, x<1, y=1': {'b': '2, x>1, y=2'},\n",
    "        '1, x<1, y>1': {'b': '2, x>1, y=2'}\n",
    "    }\n",
    "}\n",
    "\n",
    "# Create a new Digraph object for the second automaton\n",
    "dot_2 = Digraph(format='png')\n",
    "\n",
    "# Add states to the graph\n",
    "for state in TA_2[\"A\"]:\n",
    "    dot_2.node(state, shape='circle')\n",
    "\n",
    "# Add transitions to the graph\n",
    "for start_state, transitions in TA_2[\"E\"].items():\n",
    "    for label, end_state in transitions.items():\n",
    "        dot_2.edge(start_state, end_state, label=label)\n",
    "\n",
    "# Render the graph to a file for the second automaton\n",
    "output_path_2 = 'automaton.png'\n",
    "dot_2.render(output_path_2, view=False)\n",
    "\n",
    "output_path_2\n"
   ]
  }
 ],
 "metadata": {
  "kernelspec": {
   "display_name": "Python 3",
   "language": "python",
   "name": "python3"
  },
  "language_info": {
   "codemirror_mode": {
    "name": "ipython",
    "version": 3
   },
   "file_extension": ".py",
   "mimetype": "text/x-python",
   "name": "python",
   "nbconvert_exporter": "python",
   "pygments_lexer": "ipython3",
   "version": "3.9.6"
  }
 },
 "nbformat": 4,
 "nbformat_minor": 2
}
