{
  "cells": [
    {
      "cell_type": "code",
      "execution_count": null,
      "metadata": {
        "id": "139caqwt3CBv"
      },
      "outputs": [],
      "source": [
        "import pandas as pd\n",
        "import numpy as np\n",
        "import os\n",
        "import random \n",
        "from sklearn.model_selection import train_test_split\n",
        "from google.colab import drive\n",
        "import tensorflow as tf\n",
        "from tensorflow.keras import layers, models"
      ]
    },
    {
      "cell_type": "code",
      "execution_count": 16,
      "metadata": {
        "id": "wUbn3twJ51-t"
      },
      "outputs": [],
      "source": [
        "drive.mount('/content/drive')\n",
        "path_to_fonts_folder = '/content/drive/My Drive/fonts'\n",
        "csv_files = [os.path.join(path_to_fonts_folder, file) for file in os.listdir(path_to_fonts_folder) if file.endswith('.csv')]\n",
        "\n",
        "# Initialize empty lists to hold data\n",
        "images = []\n",
        "labels = []\n",
        "\n",
        "for file in csv_files:\n",
        "    df = pd.read_csv(file)\n",
        "    for _, row in df.iterrows():\n",
        "        # Assuming 'r0c0' to 'r19c19' are pixel values in each row\n",
        "        image = row['r0c0':'r19c19'].values.reshape(20, 20, 1)  # Reshape into 20x20 image\n",
        "        images.append(image)\n",
        "        labels.append(row['font'])\n"
      ]
    },
    {
      "cell_type": "code",
      "execution_count": 17,
      "metadata": {
        "id": "RNIBSNy5FuF-"
      },
      "outputs": [],
      "source": [
        "# Convert labels list to a numpy array for convenience\n",
        "labels = np.array(labels)\n",
        "\n",
        "# Create a unique list of labels\n",
        "unique_labels = np.unique(labels)\n",
        "\n",
        "# Create a dictionary that maps each label to a unique integer\n",
        "label_to_int = {label: i for i, label in enumerate(unique_labels)}\n",
        "\n",
        "# Map labels to integers based on the dictionary\n",
        "encoded_labels = np.array([label_to_int[label] for label in labels])\n",
        "\n",
        "# Convert images list to a numpy array and normalize\n",
        "images = np.array(images).astype('float32') / 255.0"
      ]
    },
    {
      "cell_type": "code",
      "execution_count": 18,
      "metadata": {
        "id": "IKO4ojv2_yQV"
      },
      "outputs": [],
      "source": [
        "X_train, X_test, y_train, y_test = train_test_split(images, encoded_labels, test_size=0.2, random_state=42)"
      ]
    },
    {
      "cell_type": "code",
      "execution_count": 19,
      "metadata": {
        "id": "AzHvbgVN8BJG"
      },
      "outputs": [],
      "source": [
        "num_classes = len(np.unique(y_train))\n",
        "\n",
        "model = models.Sequential([\n",
        "    layers.Conv2D(32, (3, 3), activation='relu', input_shape=(20, 20, 1)),\n",
        "    layers.MaxPooling2D((2, 2)),\n",
        "    layers.Conv2D(64, (3, 3), activation='relu'),\n",
        "    layers.MaxPooling2D((2, 2)),\n",
        "    layers.Flatten(),\n",
        "    layers.Dense(128, activation='relu'),\n",
        "    layers.Dense(len(np.unique(encoded_labels)), activation='softmax')  # Unique labels\n",
        "])"
      ]
    },
    {
      "cell_type": "code",
      "execution_count": 20,
      "metadata": {
        "colab": {
          "base_uri": "https://localhost:8080/"
        },
        "id": "BUQYYcvE6J0u",
        "outputId": "414c21e9-f643-4c81-d7c4-84c80cee0eaf"
      },
      "outputs": [
        {
          "name": "stdout",
          "output_type": "stream",
          "text": [
            "Epoch 1/10\n",
            "20817/20817 [==============================] - 338s 16ms/step - loss: 2.5436 - accuracy: 0.4190 - val_loss: 2.2572 - val_accuracy: 0.4663\n",
            "Epoch 2/10\n",
            "20817/20817 [==============================] - 340s 16ms/step - loss: 2.1711 - accuracy: 0.4808 - val_loss: 2.1279 - val_accuracy: 0.4881\n",
            "Epoch 3/10\n",
            "20817/20817 [==============================] - 356s 17ms/step - loss: 2.0651 - accuracy: 0.4988 - val_loss: 2.1001 - val_accuracy: 0.4929\n",
            "Epoch 4/10\n",
            "20817/20817 [==============================] - 342s 16ms/step - loss: 2.0072 - accuracy: 0.5089 - val_loss: 2.0413 - val_accuracy: 0.5033\n",
            "Epoch 5/10\n",
            "20817/20817 [==============================] - 342s 16ms/step - loss: 1.9701 - accuracy: 0.5151 - val_loss: 1.9942 - val_accuracy: 0.5134\n",
            "Epoch 6/10\n",
            "20817/20817 [==============================] - 334s 16ms/step - loss: 1.9446 - accuracy: 0.5203 - val_loss: 2.0255 - val_accuracy: 0.5081\n",
            "Epoch 7/10\n",
            "20817/20817 [==============================] - 317s 15ms/step - loss: 1.9242 - accuracy: 0.5235 - val_loss: 1.9763 - val_accuracy: 0.5146\n",
            "Epoch 8/10\n",
            "20817/20817 [==============================] - 334s 16ms/step - loss: 1.9096 - accuracy: 0.5262 - val_loss: 1.9724 - val_accuracy: 0.5166\n",
            "Epoch 9/10\n",
            "20817/20817 [==============================] - 329s 16ms/step - loss: 1.8984 - accuracy: 0.5285 - val_loss: 1.9600 - val_accuracy: 0.5195\n",
            "Epoch 10/10\n",
            "20817/20817 [==============================] - 344s 17ms/step - loss: 1.8881 - accuracy: 0.5306 - val_loss: 1.9741 - val_accuracy: 0.5178\n"
          ]
        }
      ],
      "source": [
        "# Compile the model\n",
        "model.compile(optimizer='adam', loss='sparse_categorical_crossentropy', metrics=['accuracy'])\n",
        "# Train the model\n",
        "history = model.fit(X_train, y_train, epochs=10, validation_data=(X_test, y_test))"
      ]
    },
    {
      "cell_type": "code",
      "execution_count": 24,
      "metadata": {
        "colab": {
          "base_uri": "https://localhost:8080/"
        },
        "id": "9N7Vaktz8Jzj",
        "outputId": "b498c1d0-2a30-4d84-9114-c23a976f174b"
      },
      "outputs": [
        {
          "name": "stdout",
          "output_type": "stream",
          "text": [
            "2/2 [==============================] - 0s 14ms/step\n",
            "Image 0: Original Font - COOPER, Predicted Font - ROCKWELL\n",
            "Image 1: Original Font - COOPER, Predicted Font - SEGOE\n",
            "Image 2: Original Font - COOPER, Predicted Font - FRANKLIN\n",
            "Image 3: Original Font - COOPER, Predicted Font - COOPER\n",
            "Image 4: Original Font - COOPER, Predicted Font - FRANKLIN\n",
            "Image 5: Original Font - HIMALAYA, Predicted Font - SITKA\n",
            "Image 6: Original Font - HIMALAYA, Predicted Font - COURIER\n",
            "Image 7: Original Font - HIMALAYA, Predicted Font - SEGOE\n",
            "Image 8: Original Font - HIMALAYA, Predicted Font - NIRMALA\n",
            "Image 9: Original Font - HIMALAYA, Predicted Font - HIMALAYA\n",
            "Image 10: Original Font - NUMERICS, Predicted Font - NUMERICS\n",
            "Image 11: Original Font - NUMERICS, Predicted Font - NUMERICS\n",
            "Image 12: Original Font - NUMERICS, Predicted Font - NUMERICS\n",
            "Image 13: Original Font - NUMERICS, Predicted Font - ARIAL\n",
            "Image 14: Original Font - NUMERICS, Predicted Font - NUMERICS\n",
            "Image 15: Original Font - GOUDY, Predicted Font - SEGOE\n",
            "Image 16: Original Font - GOUDY, Predicted Font - TIMES\n",
            "Image 17: Original Font - GOUDY, Predicted Font - SITKA\n",
            "Image 18: Original Font - GOUDY, Predicted Font - SNAP\n",
            "Image 19: Original Font - GOUDY, Predicted Font - SITKA\n",
            "Image 20: Original Font - GUNPLAY, Predicted Font - FRANKLIN\n",
            "Image 21: Original Font - GUNPLAY, Predicted Font - ARIAL\n",
            "Image 22: Original Font - GUNPLAY, Predicted Font - SWIS721\n",
            "Image 23: Original Font - GUNPLAY, Predicted Font - SEGOE\n",
            "Image 24: Original Font - GUNPLAY, Predicted Font - FRANKLIN\n",
            "Image 25: Original Font - PAPYRUS, Predicted Font - SEGOE\n",
            "Image 26: Original Font - PAPYRUS, Predicted Font - SEGOE\n",
            "Image 27: Original Font - PAPYRUS, Predicted Font - SEGOE\n",
            "Image 28: Original Font - PAPYRUS, Predicted Font - NIRMALA\n",
            "Image 29: Original Font - PAPYRUS, Predicted Font - LUCIDA\n",
            "Image 30: Original Font - GLOUCESTER, Predicted Font - GLOUCESTER\n",
            "Image 31: Original Font - GLOUCESTER, Predicted Font - ROCKWELL\n",
            "Image 32: Original Font - GLOUCESTER, Predicted Font - SEGOE\n",
            "Image 33: Original Font - GLOUCESTER, Predicted Font - SEGOE\n",
            "Image 34: Original Font - GLOUCESTER, Predicted Font - NIAGARA\n",
            "Image 35: Original Font - MONOTXT, Predicted Font - ITALIC\n",
            "Image 36: Original Font - MONOTXT, Predicted Font - PROXY\n",
            "Image 37: Original Font - MONOTXT, Predicted Font - SEGOE\n",
            "Image 38: Original Font - MONOTXT, Predicted Font - PROXY\n",
            "Image 39: Original Font - MONOTXT, Predicted Font - PROXY\n",
            "Image 40: Original Font - BUXTON, Predicted Font - VLADIMIR\n",
            "Image 41: Original Font - BUXTON, Predicted Font - HANDPRINT\n",
            "Image 42: Original Font - BUXTON, Predicted Font - SEGOE\n",
            "Image 43: Original Font - BUXTON, Predicted Font - MAGNETO\n",
            "Image 44: Original Font - BUXTON, Predicted Font - HANDPRINT\n",
            "Image 45: Original Font - TXT, Predicted Font - ROMAN\n",
            "Image 46: Original Font - TXT, Predicted Font - PROXY\n",
            "Image 47: Original Font - TXT, Predicted Font - TXT\n",
            "Image 48: Original Font - TXT, Predicted Font - PROXY\n",
            "Image 49: Original Font - TXT, Predicted Font - ISOC\n"
          ]
        }
      ],
      "source": [
        "csv_files = [os.path.join(path_to_fonts, file) for file in os.listdir(path_to_fonts_folder) if file.endswith('.csv')]\n",
        "\n",
        "# Randomly select a few CSV files for testing\n",
        "num_files_to_test = 10\n",
        "selected_files = random.sample(csv_files, num_files_to_test)\n",
        "\n",
        "# Initialize list for images and original fonts\n",
        "test_images = []\n",
        "original_fonts = []\n",
        "\n",
        "for file in selected_files:\n",
        "    df = pd.read_csv(file)\n",
        "    for _, row in df.sample(5).iterrows():  # Take 5 random images from each file\n",
        "        image = row['r0c0':'r19c19'].astype(np.float32).values.reshape(20, 20, 1) / 255.0\n",
        "        test_images.append(image)\n",
        "        original_fonts.append(str(row['font']))  # Ensure that it's converted to string\n",
        "\n",
        "# Convert list to numpy array\n",
        "test_images = np.array(test_images)\n",
        "\n",
        "# Predict fonts using the trained model\n",
        "predicted_fonts = model.predict(test_images)\n",
        "predicted_font_classes = np.argmax(predicted_fonts, axis=1)\n",
        "\n",
        "# Assuming you have a mapping from class indices to font names\n",
        "predicted_font_names = [unique_labels[i] for i in predicted_font_classes]\n",
        "\n",
        "# Display predictions and compare with original fonts\n",
        "for i, (original, predicted) in enumerate(zip(original_fonts, predicted_font_names)):\n",
        "    print(f\"Image {i}: Original Font - {original}, Predicted Font - {predicted}\")"
      ]
    },
    {
      "cell_type": "code",
      "execution_count": null,
      "metadata": {
        "id": "YTDUf2HD6VDE"
      },
      "outputs": [],
      "source": [
        "# Save the model\n",
        "model.save('/content/drive/My Drive/font_recognition_model.h5')\n"
      ]
    },
    {
      "cell_type": "code",
      "execution_count": null,
      "metadata": {
        "id": "JHDoImv0Qo1d"
      },
      "outputs": [],
      "source": []
    }
  ],
  "metadata": {
    "colab": {
      "provenance": [],
      "toc_visible": true
    },
    "kernelspec": {
      "display_name": "Python 3",
      "name": "python3"
    },
    "language_info": {
      "name": "python"
    }
  },
  "nbformat": 4,
  "nbformat_minor": 0
}
