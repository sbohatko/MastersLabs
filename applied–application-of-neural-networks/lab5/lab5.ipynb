{
  "nbformat": 4,
  "nbformat_minor": 0,
  "metadata": {
    "colab": {
      "provenance": []
    },
    "kernelspec": {
      "name": "python3",
      "display_name": "Python 3"
    },
    "language_info": {
      "name": "python"
    }
  },
  "cells": [
    {
      "cell_type": "code",
      "source": [
        "import numpy as np\n",
        "from sklearn.model_selection import train_test_split\n",
        "import tensorflow as tf\n",
        "from tensorflow import keras\n",
        "(x_train, y_train), (x_val, y_val) = keras.datasets.fashion_mnist.load_data()"
      ],
      "metadata": {
        "id": "e_bLk06aQroB"
      },
      "execution_count": null,
      "outputs": []
    },
    {
      "cell_type": "code",
      "source": [
        "y_train_oh = keras.utils.to_categorical(y_train, 10)\n",
        "y_val_oh = keras.utils.to_categorical(y_val, 10)"
      ],
      "metadata": {
        "id": "pfsAT23QTuAX"
      },
      "execution_count": null,
      "outputs": []
    },
    {
      "cell_type": "code",
      "source": [
        "model = keras.models.Sequential()\n",
        "model.add(keras.layers.Dense(128, input_dim=784, activation='relu'))\n",
        "model.add(keras.layers.Dense(128, activation='elu'))\n",
        "model.add(keras.layers.Dense(10, activation='softmax'))\n",
        "\n",
        "model.compile(\n",
        "loss='categorical_crossentropy',\n",
        "optimizer='adam',\n",
        "metrics=['accuracy']\n",
        ")"
      ],
      "metadata": {
        "id": "wF9whdqQXdYQ"
      },
      "execution_count": null,
      "outputs": []
    },
    {
      "cell_type": "code",
      "source": [
        "x_train_float = x_train.astype(float) / 255 - 0.5\n",
        "x_val_float = x_val.astype(float) / 255 - 0.5\n",
        "model.fit(x_train_float.reshape(-1, 28*28),\n",
        "          y_train_oh,batch_size=64,\n",
        "          epochs=10,\n",
        "          validation_data=(x_val_float.reshape(-1, 28*28),\n",
        "                           y_val_oh))"
      ],
      "metadata": {
        "colab": {
          "base_uri": "https://localhost:8080/"
        },
        "id": "e7m1ALFNlhql",
        "outputId": "3aa18ae7-cdb5-4ccb-e72a-f1d5b28e6a29"
      },
      "execution_count": null,
      "outputs": [
        {
          "output_type": "stream",
          "name": "stdout",
          "text": [
            "Epoch 1/10\n",
            "938/938 [==============================] - 9s 8ms/step - loss: 0.4937 - accuracy: 0.8216 - val_loss: 0.4257 - val_accuracy: 0.8473\n",
            "Epoch 2/10\n",
            "938/938 [==============================] - 6s 7ms/step - loss: 0.3729 - accuracy: 0.8641 - val_loss: 0.4060 - val_accuracy: 0.8534\n",
            "Epoch 3/10\n",
            "938/938 [==============================] - 8s 9ms/step - loss: 0.3345 - accuracy: 0.8768 - val_loss: 0.3884 - val_accuracy: 0.8575\n",
            "Epoch 4/10\n",
            "938/938 [==============================] - 6s 6ms/step - loss: 0.3126 - accuracy: 0.8842 - val_loss: 0.3673 - val_accuracy: 0.8655\n",
            "Epoch 5/10\n",
            "938/938 [==============================] - 9s 10ms/step - loss: 0.2947 - accuracy: 0.8907 - val_loss: 0.3499 - val_accuracy: 0.8740\n",
            "Epoch 6/10\n",
            "938/938 [==============================] - 6s 6ms/step - loss: 0.2793 - accuracy: 0.8963 - val_loss: 0.3487 - val_accuracy: 0.8777\n",
            "Epoch 7/10\n",
            "938/938 [==============================] - 7s 7ms/step - loss: 0.2644 - accuracy: 0.9007 - val_loss: 0.3445 - val_accuracy: 0.8776\n",
            "Epoch 8/10\n",
            "938/938 [==============================] - 6s 7ms/step - loss: 0.2551 - accuracy: 0.9041 - val_loss: 0.3424 - val_accuracy: 0.8784\n",
            "Epoch 9/10\n",
            "938/938 [==============================] - 6s 6ms/step - loss: 0.2430 - accuracy: 0.9086 - val_loss: 0.3479 - val_accuracy: 0.8794\n",
            "Epoch 10/10\n",
            "938/938 [==============================] - 8s 8ms/step - loss: 0.2355 - accuracy: 0.9110 - val_loss: 0.3500 - val_accuracy: 0.8796\n"
          ]
        },
        {
          "output_type": "execute_result",
          "data": {
            "text/plain": [
              "<keras.src.callbacks.History at 0x7a14b5bb0100>"
            ]
          },
          "metadata": {},
          "execution_count": 29
        }
      ]
    }
  ]
}